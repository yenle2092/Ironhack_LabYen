{
 "cells": [
  {
   "cell_type": "markdown",
   "id": "ed34f123",
   "metadata": {},
   "source": [
    "1. Define a method/function that removes from a given array of integers all the values contained in a second array."
   ]
  },
  {
   "cell_type": "code",
   "execution_count": 30,
   "id": "4ca93c60",
   "metadata": {},
   "outputs": [
    {
     "data": {
      "text/plain": [
       "[2, 2, 4]"
      ]
     },
     "execution_count": 30,
     "metadata": {},
     "output_type": "execute_result"
    }
   ],
   "source": [
    "test_list = [1, 1, 2, 3, 1, 2, 3, 4]\n",
    "remove_list = [1, 3]\n",
    "\n",
    "class List:\n",
    "    def remove_(self, integer_list, values_list):\n",
    "        result=[i for i in integer_list if i not in values_list]\n",
    "        return result\n",
    "l=List()\n",
    "l.remove_(test_list,remove_list)\n"
   ]
  },
  {
   "cell_type": "markdown",
   "id": "60c46760",
   "metadata": {},
   "source": [
    "2.Method For Counting Total Occurence Of Specific Digits"
   ]
  },
  {
   "cell_type": "code",
   "execution_count": 29,
   "id": "11110f97",
   "metadata": {},
   "outputs": [
    {
     "data": {
      "text/plain": [
       "[(1, 0), (8, 0), (4, 0)]"
      ]
     },
     "execution_count": 29,
     "metadata": {},
     "output_type": "execute_result"
    }
   ],
   "source": [
    "integers_list=[-77, -65, 56, -79, 6666, 222]\n",
    "digits_list=[1, 8, 4]\n",
    "from collections import Counter\n",
    "class List(object):\n",
    "    def count_spec_digits(self, integers_list, digits_list):\n",
    "        s=str(integers_list)\n",
    "        freq=Counter(s)\n",
    "        res=dict()\n",
    "        for i in digits_list:\n",
    "            res[i]=freq[str(i)]           \n",
    "        return list(res.items())\n",
    "l=List()\n",
    "l.count_spec_digits(integers_list, digits_list)\n"
   ]
  },
  {
   "cell_type": "markdown",
   "id": "5b120521",
   "metadata": {},
   "source": [
    "3.Count the number of occurrences of each character and return it as a (list of tuples) in order of appearance. For empty output return (an empty list)."
   ]
  },
  {
   "cell_type": "code",
   "execution_count": 39,
   "id": "01e03e23",
   "metadata": {},
   "outputs": [
    {
     "data": {
      "text/plain": [
       "[('j', 1), ('d', 2), ('h', 1), ('f', 1), ('l', 1), ('k', 1), ('s', 1)]"
      ]
     },
     "execution_count": 39,
     "metadata": {},
     "output_type": "execute_result"
    }
   ],
   "source": [
    "from collections import Counter\n",
    "def ordered_count(inp):\n",
    "    c = dict()\n",
    "    ordered_list=[]\n",
    "    c = Counter(inp)\n",
    "    ordered_list=list(c.items())\n",
    "    return ordered_list\n",
    "ordered_count(\"jdhflksd\")"
   ]
  },
  {
   "cell_type": "code",
   "execution_count": null,
   "id": "310299d2",
   "metadata": {},
   "outputs": [],
   "source": []
  }
 ],
 "metadata": {
  "kernelspec": {
   "display_name": "Python 3 (ipykernel)",
   "language": "python",
   "name": "python3"
  },
  "language_info": {
   "codemirror_mode": {
    "name": "ipython",
    "version": 3
   },
   "file_extension": ".py",
   "mimetype": "text/x-python",
   "name": "python",
   "nbconvert_exporter": "python",
   "pygments_lexer": "ipython3",
   "version": "3.9.12"
  }
 },
 "nbformat": 4,
 "nbformat_minor": 5
}
