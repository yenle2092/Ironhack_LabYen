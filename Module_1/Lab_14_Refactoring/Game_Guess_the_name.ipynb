{
 "cells": [
  {
   "cell_type": "code",
   "execution_count": null,
   "id": "875ed33b",
   "metadata": {},
   "outputs": [
    {
     "name": "stdout",
     "output_type": "stream",
     "text": [
      "                 WELCOME TO THE GAME: GUESS THE NUMBER 😊😊😊\n",
      "\n",
      "Entrer 1 for Easy level \n",
      "Entrer 2 for Medium level \n",
      "Entrer 3 for Hard level\n",
      "\n",
      "Choose the level of the game: 1\n",
      "\n",
      "           YOU CHOSE THE EASY LEVEL \n",
      "               LET'S GO - Just 5 attempts\n",
      "\n",
      "Guess the number between 1 and 10 : jfnrj\n",
      "\n",
      "       Invalid input! Please enter a number.\n",
      "\n",
      "Guess the number between 1 and 10 : rjr\n",
      "\n",
      "       Invalid input! Please enter a number.\n",
      "\n",
      "Guess the number between 1 and 10 : 6\n",
      "\n",
      "    1  attempt - Too high, try again. Hint: the number is less than 6.\n"
     ]
    }
   ],
   "source": [
    "###Choose the level of the game\n",
    "\n",
    "list_level=[\"1\",\"2\",\"3\"]\n",
    "print(\"                 WELCOME TO THE GAME: GUESS THE NUMBER 😊😊😊\") \n",
    "print(\"\\nEntrer 1 for Easy level \\nEntrer 2 for Medium level \\nEntrer 3 for Hard level\")\n",
    "level=input(\"\\nChoose the level of the game: \")\n",
    "while level not in list_level:\n",
    "    level=input(\"\\nThe level is not correct, choose only the number 1,2 or 3 : \")\n",
    "    \n",
    "if level==\"1\":\n",
    "    print(\"\\n           YOU CHOSE THE EASY LEVEL \\n               LET'S GO - Just 5 attempts\")\n",
    "    x=1\n",
    "    y=10\n",
    "    trial=5\n",
    "elif level==\"2\":\n",
    "    print(\"\\n           YOU CHOSE THE MEDIUM LEVEL \\n              LET'S GO - Just 7 attempts\")\n",
    "    x=10\n",
    "    y=100 \n",
    "    trial=7\n",
    "elif level==\"3\":\n",
    "    print(\"\\n           YOU CHOSE THE HARD LEVEL \\n                 LET'S GO - Just 10 attempts\")\n",
    "    x=-500\n",
    "    y=500\n",
    "    trial=10\n",
    "    \n",
    "###Choose a random number (guess)\n",
    "import random\n",
    "#print(x,y)\n",
    "number=random.randint(x,y)  \n",
    "\n",
    "###Guess a number:\n",
    "count=0\n",
    "while count < trial:\n",
    "    try:\n",
    "        guess = int(input(f\"\\nGuess the number between {x} and {y} : \"))\n",
    "        if not x <= guess <= y:\n",
    "            print(\"\\n      Invalid input! The number should be between \",x,\" and \",y,\" :  \")\n",
    "        elif guess > number:\n",
    "            print(\"\\n   \",count+1,\" attempt - Too high, try again. Hint: the number is less than {}.\".format(guess))\n",
    "        elif guess < number:\n",
    "            print(\"\\n   \",count+1,\" attempt - Too low, try again. Hint: the number is greater than {}.\".format(guess))\n",
    "        else:\n",
    "            print(\"\\n            YOU GUESSED IT! The number was\", number, \"with \",count+1, \"attempts\")\n",
    "            break\n",
    "        count += 1\n",
    "    except ValueError:\n",
    "        print(\"\\n       Invalid input! Please enter a number.\")\n",
    "else:\n",
    "    print(\"\\n             YOU LOST THE GAME \\nYou have reached the maximum number of attempts. \\nThe number was\", number)\n",
    "\n"
   ]
  },
  {
   "cell_type": "code",
   "execution_count": null,
   "id": "269e7e52",
   "metadata": {},
   "outputs": [],
   "source": []
  }
 ],
 "metadata": {
  "kernelspec": {
   "display_name": "Python 3 (ipykernel)",
   "language": "python",
   "name": "python3"
  },
  "language_info": {
   "codemirror_mode": {
    "name": "ipython",
    "version": 3
   },
   "file_extension": ".py",
   "mimetype": "text/x-python",
   "name": "python",
   "nbconvert_exporter": "python",
   "pygments_lexer": "ipython3",
   "version": "3.9.12"
  }
 },
 "nbformat": 4,
 "nbformat_minor": 5
}
