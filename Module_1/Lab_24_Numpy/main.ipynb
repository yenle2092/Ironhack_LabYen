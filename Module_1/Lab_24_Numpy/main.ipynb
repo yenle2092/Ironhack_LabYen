{
 "cells": [
  {
   "cell_type": "markdown",
   "metadata": {},
   "source": [
    "# Intrduction to NumPy\n",
    "\n",
    "\n",
    "#### 1. Import NumPy under the name np."
   ]
  },
  {
   "cell_type": "code",
   "execution_count": 10,
   "metadata": {},
   "outputs": [],
   "source": [
    "import numpy as np"
   ]
  },
  {
   "cell_type": "markdown",
   "metadata": {},
   "source": [
    "#### 2. Print your NumPy version."
   ]
  },
  {
   "cell_type": "code",
   "execution_count": 11,
   "metadata": {},
   "outputs": [
    {
     "name": "stdout",
     "output_type": "stream",
     "text": [
      "1.21.5\n"
     ]
    }
   ],
   "source": [
    "print(np.__version__)"
   ]
  },
  {
   "cell_type": "markdown",
   "metadata": {},
   "source": [
    "#### 3. Generate a 2x3x5 3-dimensional array with random values. Assign the array to variable *a*.\n",
    "**Challenge**: there are at least three easy ways that use numpy to generate random arrays. How many ways can you find?"
   ]
  },
  {
   "cell_type": "code",
   "execution_count": 17,
   "metadata": {},
   "outputs": [],
   "source": [
    "a=np.random.random((2,3,5))"
   ]
  },
  {
   "cell_type": "code",
   "execution_count": 19,
   "metadata": {},
   "outputs": [],
   "source": [
    "import random\n",
    "my_randoms=[]\n",
    "for i in range (30):\n",
    "    my_randoms.append(random.randrange(1, 101, 1))\n",
    "a1=np.reshape(my_randoms,(2,3,5))\n"
   ]
  },
  {
   "cell_type": "code",
   "execution_count": null,
   "metadata": {},
   "outputs": [],
   "source": [
    "# Method 3"
   ]
  },
  {
   "cell_type": "markdown",
   "metadata": {},
   "source": [
    "#### 4. Print *a*.\n"
   ]
  },
  {
   "cell_type": "code",
   "execution_count": 20,
   "metadata": {},
   "outputs": [
    {
     "name": "stdout",
     "output_type": "stream",
     "text": [
      "[[[0.39391001 0.03626406 0.98378765 0.87907202 0.83194856]\n",
      "  [0.18247522 0.05584839 0.34639698 0.02466045 0.82693703]\n",
      "  [0.58911905 0.6514652  0.21126983 0.50844488 0.79143075]]\n",
      "\n",
      " [[0.04862063 0.80954613 0.47139321 0.0519599  0.23447066]\n",
      "  [0.71909129 0.8602674  0.93236405 0.85224106 0.78910506]\n",
      "  [0.1886002  0.00508746 0.85311274 0.1628739  0.93501174]]]\n",
      "[[[29 23 75 65 96]\n",
      "  [ 4 78 16 40 72]\n",
      "  [ 6 43 75 40 63]]\n",
      "\n",
      " [[44 55 91 41 41]\n",
      "  [66 67 96 31 40]\n",
      "  [21 35 70 56 74]]]\n"
     ]
    }
   ],
   "source": [
    "print(a)\n",
    "print(a1)"
   ]
  },
  {
   "cell_type": "markdown",
   "metadata": {},
   "source": [
    "#### 5. Create a 5x2x3 3-dimensional array with all values equaling 1. Assign the array to variable *b*."
   ]
  },
  {
   "cell_type": "code",
   "execution_count": 51,
   "metadata": {},
   "outputs": [],
   "source": [
    "b=np.full(((5,3,2)),1)\n"
   ]
  },
  {
   "cell_type": "markdown",
   "metadata": {},
   "source": [
    "#### 6. Print *b*.\n"
   ]
  },
  {
   "cell_type": "code",
   "execution_count": 43,
   "metadata": {},
   "outputs": [
    {
     "name": "stdout",
     "output_type": "stream",
     "text": [
      "[[[1 1]\n",
      "  [1 1]\n",
      "  [1 1]]\n",
      "\n",
      " [[1 1]\n",
      "  [1 1]\n",
      "  [1 1]]\n",
      "\n",
      " [[1 1]\n",
      "  [1 1]\n",
      "  [1 1]]\n",
      "\n",
      " [[1 1]\n",
      "  [1 1]\n",
      "  [1 1]]\n",
      "\n",
      " [[1 1]\n",
      "  [1 1]\n",
      "  [1 1]]]\n"
     ]
    }
   ],
   "source": [
    "print(b)"
   ]
  },
  {
   "cell_type": "markdown",
   "metadata": {},
   "source": [
    "#### 7. Do *a* and *b* have the same size? How do you prove that in Python code?"
   ]
  },
  {
   "cell_type": "code",
   "execution_count": 52,
   "metadata": {},
   "outputs": [
    {
     "name": "stdout",
     "output_type": "stream",
     "text": [
      "size of a:  (2, 3, 5)\n",
      "size of b:  (5, 3, 2)\n",
      "a and b dont have the same size\n"
     ]
    }
   ],
   "source": [
    "print('size of a: ',a.shape)\n",
    "print('size of b: ',b.shape)\n",
    "if a.shape==b.shape:\n",
    "    print(' a and b have the same size')\n",
    "else:\n",
    "    print('a and b dont have the same size')"
   ]
  },
  {
   "cell_type": "markdown",
   "metadata": {},
   "source": [
    "#### 8. Are you able to add *a* and *b*? Why or why not?\n"
   ]
  },
  {
   "cell_type": "code",
   "execution_count": 45,
   "metadata": {},
   "outputs": [
    {
     "ename": "ValueError",
     "evalue": "operands could not be broadcast together with shapes (2,3,5) (5,3,2) ",
     "output_type": "error",
     "traceback": [
      "\u001b[1;31m---------------------------------------------------------------------------\u001b[0m",
      "\u001b[1;31mValueError\u001b[0m                                Traceback (most recent call last)",
      "Input \u001b[1;32mIn [45]\u001b[0m, in \u001b[0;36m<cell line: 1>\u001b[1;34m()\u001b[0m\n\u001b[1;32m----> 1\u001b[0m \u001b[38;5;28mprint\u001b[39m(\u001b[43ma\u001b[49m\u001b[38;5;241;43m+\u001b[39;49m\u001b[43mb\u001b[49m)\n",
      "\u001b[1;31mValueError\u001b[0m: operands could not be broadcast together with shapes (2,3,5) (5,3,2) "
     ]
    }
   ],
   "source": [
    "print(a+b)\n",
    "## We aren't able to add a and b. Because a and b don't have the same size"
   ]
  },
  {
   "cell_type": "markdown",
   "metadata": {},
   "source": [
    "#### 9. Transpose *b* so that it has the same structure of *a* (i.e. become a 2x3x5 array). Assign the transposed array to variable *c*."
   ]
  },
  {
   "cell_type": "code",
   "execution_count": 53,
   "metadata": {},
   "outputs": [
    {
     "name": "stdout",
     "output_type": "stream",
     "text": [
      "[[[1 1 1 1 1]\n",
      "  [1 1 1 1 1]\n",
      "  [1 1 1 1 1]]\n",
      "\n",
      " [[1 1 1 1 1]\n",
      "  [1 1 1 1 1]\n",
      "  [1 1 1 1 1]]]\n"
     ]
    },
    {
     "data": {
      "text/plain": [
       "(2, 3, 5)"
      ]
     },
     "execution_count": 53,
     "metadata": {},
     "output_type": "execute_result"
    }
   ],
   "source": [
    "c=b.T\n",
    "print(c)\n",
    "c.shape"
   ]
  },
  {
   "cell_type": "markdown",
   "metadata": {},
   "source": [
    "#### 10. Try to add *a* and *c*. Now it should work. Assign the sum to variable *d*. But why does it work now?"
   ]
  },
  {
   "cell_type": "code",
   "execution_count": 54,
   "metadata": {},
   "outputs": [
    {
     "name": "stdout",
     "output_type": "stream",
     "text": [
      "[[[1.39391001 1.03626406 1.98378765 1.87907202 1.83194856]\n",
      "  [1.18247522 1.05584839 1.34639698 1.02466045 1.82693703]\n",
      "  [1.58911905 1.6514652  1.21126983 1.50844488 1.79143075]]\n",
      "\n",
      " [[1.04862063 1.80954613 1.47139321 1.0519599  1.23447066]\n",
      "  [1.71909129 1.8602674  1.93236405 1.85224106 1.78910506]\n",
      "  [1.1886002  1.00508746 1.85311274 1.1628739  1.93501174]]]\n"
     ]
    }
   ],
   "source": [
    "d=a+c\n",
    "print(d)"
   ]
  },
  {
   "cell_type": "markdown",
   "metadata": {},
   "source": [
    "#### 11. Print *a* and *d*. Notice the difference and relation of the two array in terms of the values? Explain."
   ]
  },
  {
   "cell_type": "code",
   "execution_count": 56,
   "metadata": {},
   "outputs": [
    {
     "name": "stdout",
     "output_type": "stream",
     "text": [
      "[[[0.39391001 0.03626406 0.98378765 0.87907202 0.83194856]\n",
      "  [0.18247522 0.05584839 0.34639698 0.02466045 0.82693703]\n",
      "  [0.58911905 0.6514652  0.21126983 0.50844488 0.79143075]]\n",
      "\n",
      " [[0.04862063 0.80954613 0.47139321 0.0519599  0.23447066]\n",
      "  [0.71909129 0.8602674  0.93236405 0.85224106 0.78910506]\n",
      "  [0.1886002  0.00508746 0.85311274 0.1628739  0.93501174]]]\n",
      "--------------------------\n",
      "[[[1.39391001 1.03626406 1.98378765 1.87907202 1.83194856]\n",
      "  [1.18247522 1.05584839 1.34639698 1.02466045 1.82693703]\n",
      "  [1.58911905 1.6514652  1.21126983 1.50844488 1.79143075]]\n",
      "\n",
      " [[1.04862063 1.80954613 1.47139321 1.0519599  1.23447066]\n",
      "  [1.71909129 1.8602674  1.93236405 1.85224106 1.78910506]\n",
      "  [1.1886002  1.00508746 1.85311274 1.1628739  1.93501174]]]\n"
     ]
    }
   ],
   "source": [
    "print(a)\n",
    "\n",
    "print(\"--------------------------\")\n",
    "print(d)"
   ]
  },
  {
   "cell_type": "markdown",
   "metadata": {},
   "source": [
    "#### 12. Multiply *a* and *c*. Assign the result to *e*."
   ]
  },
  {
   "cell_type": "code",
   "execution_count": 66,
   "metadata": {},
   "outputs": [
    {
     "name": "stdout",
     "output_type": "stream",
     "text": [
      "[[[0.39391001 0.03626406 0.98378765 0.87907202 0.83194856]\n",
      "  [0.18247522 0.05584839 0.34639698 0.02466045 0.82693703]\n",
      "  [0.58911905 0.6514652  0.21126983 0.50844488 0.79143075]]\n",
      "\n",
      " [[0.04862063 0.80954613 0.47139321 0.0519599  0.23447066]\n",
      "  [0.71909129 0.8602674  0.93236405 0.85224106 0.78910506]\n",
      "  [0.1886002  0.00508746 0.85311274 0.1628739  0.93501174]]]\n",
      "-------------------\n",
      "[[[0.39391001 0.03626406 0.98378765 0.87907202 0.83194856]\n",
      "  [0.18247522 0.05584839 0.34639698 0.02466045 0.82693703]\n",
      "  [0.58911905 0.6514652  0.21126983 0.50844488 0.79143075]]\n",
      "\n",
      " [[0.04862063 0.80954613 0.47139321 0.0519599  0.23447066]\n",
      "  [0.71909129 0.8602674  0.93236405 0.85224106 0.78910506]\n",
      "  [0.1886002  0.00508746 0.85311274 0.1628739  0.93501174]]]\n"
     ]
    }
   ],
   "source": [
    "e=a*c\n",
    "print(e)\n",
    "print(\"-------------------\")\n",
    "print(a)"
   ]
  },
  {
   "cell_type": "markdown",
   "metadata": {},
   "source": [
    "#### 13. Does *e* equal to *a*? Why or why not?\n"
   ]
  },
  {
   "cell_type": "code",
   "execution_count": 68,
   "metadata": {},
   "outputs": [
    {
     "name": "stdout",
     "output_type": "stream",
     "text": [
      "e is equal to a\n",
      "(2, 3, 5)\n",
      "(2, 3, 5)\n"
     ]
    }
   ],
   "source": [
    "if e.all()==a.all():\n",
    "    print('e is equal to a')\n",
    "else:\n",
    "    print('e is not equal to a')\n",
    "print(a.shape)\n",
    "print(e.shape)"
   ]
  },
  {
   "cell_type": "markdown",
   "metadata": {},
   "source": [
    "#### 14. Identify the max, min, and mean values in *d*. Assign those values to variables *d_max*, *d_min* and *d_mean*."
   ]
  },
  {
   "cell_type": "code",
   "execution_count": 63,
   "metadata": {},
   "outputs": [
    {
     "name": "stdout",
     "output_type": "stream",
     "text": [
      "1.9837876504018475\n",
      "1.0050874608159113\n",
      "1.507559183130576\n"
     ]
    }
   ],
   "source": [
    "d_max=np.max(d)\n",
    "print(d_max)\n",
    "d_min=np.min(d)\n",
    "print(d_min)\n",
    "d_mean=np.mean(d)\n",
    "print(d_mean)"
   ]
  },
  {
   "cell_type": "markdown",
   "metadata": {},
   "source": [
    "#### 15. Now we want to label the values in *d*. First create an empty array *f* with the same shape (i.e. 2x3x5) as *d* using `np.empty`.\n"
   ]
  },
  {
   "cell_type": "code",
   "execution_count": 88,
   "metadata": {},
   "outputs": [
    {
     "name": "stdout",
     "output_type": "stream",
     "text": [
      "[[[0.39391001 0.03626406 0.98378765 0.87907202 0.83194856]\n",
      "  [0.18247522 0.05584839 0.34639698 0.02466045 0.82693703]\n",
      "  [0.58911905 0.6514652  0.21126983 0.50844488 0.79143075]]\n",
      "\n",
      " [[0.04862063 0.80954613 0.47139321 0.0519599  0.23447066]\n",
      "  [0.71909129 0.8602674  0.93236405 0.85224106 0.78910506]\n",
      "  [0.1886002  0.00508746 0.85311274 0.1628739  0.93501174]]]\n"
     ]
    }
   ],
   "source": [
    "f=np.empty((2,3,5))\n",
    "print(f)"
   ]
  },
  {
   "cell_type": "markdown",
   "metadata": {},
   "source": [
    "#### 16. Populate the values in *f*. \n",
    "\n",
    "For each value in *d*, if it's larger than *d_min* but smaller than *d_mean*, assign 25 to the corresponding value in *f*. If a value in *d* is larger than *d_mean* but smaller than *d_max*, assign 75 to the corresponding value in *f*. If a value equals to *d_mean*, assign 50 to the corresponding value in *f*. Assign 0 to the corresponding value(s) in *f* for *d_min* in *d*. Assign 100 to the corresponding value(s) in *f* for *d_max* in *d*. In the end, f should have only the following values: 0, 25, 50, 75, and 100.\n",
    "\n",
    "**Note**: you don't have to use Numpy in this question."
   ]
  },
  {
   "cell_type": "code",
   "execution_count": 89,
   "metadata": {},
   "outputs": [
    {
     "name": "stdout",
     "output_type": "stream",
     "text": [
      "[[[ 25  25 100  75  75]\n",
      "  [ 25  25  25  25  75]\n",
      "  [ 75  75  25  75  75]]\n",
      "\n",
      " [[ 25  75  25  25  25]\n",
      "  [ 75  75  75  75  75]\n",
      "  [ 25 100  75  25  75]]]\n"
     ]
    }
   ],
   "source": [
    "ar_1d = d.flatten()\n",
    "ar= []\n",
    "for i in ar_1d:\n",
    "    if i>d.min() and i<d.mean():\n",
    "        ar.append(25)\n",
    "    elif i>d.mean() and i<d.max():\n",
    "        ar.append(75)\n",
    "    elif i==d.mean():\n",
    "        ar.append(50)\n",
    "    elif i<d.min():\n",
    "        ar.append(0)   \n",
    "    else :\n",
    "        ar.append(100)\n",
    "f=np.reshape(ar,(2,3,5)) "
   ]
  },
  {
   "cell_type": "markdown",
   "metadata": {},
   "source": [
    "#### 17. Print *d* and *f*. Do you have your expected *f*?\n",
    "For instance, if your *d* is:\n",
    "```python\n",
    "[[[1.85836099, 1.67064465, 1.62576044, 1.40243961, 1.88454931],\n",
    "[1.75354326, 1.69403643, 1.36729252, 1.61415071, 1.12104981],\n",
    "[1.72201435, 1.1862918 , 1.87078449, 1.7726778 , 1.88180042]],\n",
    "[[1.44747908, 1.31673383, 1.02000951, 1.52218947, 1.97066381],\n",
    "[1.79129243, 1.74983003, 1.96028037, 1.85166831, 1.65450881],\n",
    "[1.18068344, 1.9587381 , 1.00656599, 1.93402165, 1.73514584]]]\n",
    "```\n",
    "Your *f* should be:\n",
    "```python\n",
    "[[[ 75.,  75.,  75.,  25.,  75.],\n",
    "[ 75.,  75.,  25.,  25.,  25.],\n",
    "[ 75.,  25.,  75.,  75.,  75.]],\n",
    "[[ 25.,  25.,  25.,  25., 100.],\n",
    "[ 75.,  75.,  75.,  75.,  75.],\n",
    "[ 25.,  75.,   0.,  75.,  75.]]]\n",
    "```"
   ]
  },
  {
   "cell_type": "code",
   "execution_count": 90,
   "metadata": {},
   "outputs": [
    {
     "name": "stdout",
     "output_type": "stream",
     "text": [
      "[[[1.39391001 1.03626406 1.98378765 1.87907202 1.83194856]\n",
      "  [1.18247522 1.05584839 1.34639698 1.02466045 1.82693703]\n",
      "  [1.58911905 1.6514652  1.21126983 1.50844488 1.79143075]]\n",
      "\n",
      " [[1.04862063 1.80954613 1.47139321 1.0519599  1.23447066]\n",
      "  [1.71909129 1.8602674  1.93236405 1.85224106 1.78910506]\n",
      "  [1.1886002  1.00508746 1.85311274 1.1628739  1.93501174]]]\n",
      "----------------------------------------\n",
      "[[[ 25  25 100  75  75]\n",
      "  [ 25  25  25  25  75]\n",
      "  [ 75  75  25  75  75]]\n",
      "\n",
      " [[ 25  75  25  25  25]\n",
      "  [ 75  75  75  75  75]\n",
      "  [ 25 100  75  25  75]]]\n"
     ]
    }
   ],
   "source": [
    "print(d)\n",
    "print('----------------------------------------')\n",
    "print(f)"
   ]
  },
  {
   "cell_type": "markdown",
   "metadata": {},
   "source": [
    "#### 18. Bonus question: instead of using numbers (i.e. 0, 25, 50, 75, and 100), use string values  (\"A\", \"B\", \"C\", \"D\", and \"E\") to label the array elements. For the example above, the expected result is:\n",
    "\n",
    "```python\n",
    "[[[ 'D',  'D',  'D',  'B',  'D'],\n",
    "[ 'D',  'D',  'B',  'B',  'B'],\n",
    "[ 'D',  'B',  'D',  'D',  'D']],\n",
    "[[ 'B',  'B',  'B',  'B',  'E'],\n",
    "[ 'D',  'D',  'D',  'D',  'D'],\n",
    "[ 'B',  'D',   'A',  'D', 'D']]]\n",
    "```\n",
    "**Note**: you don't have to use Numpy in this question."
   ]
  },
  {
   "cell_type": "code",
   "execution_count": 93,
   "metadata": {},
   "outputs": [
    {
     "ename": "ValueError",
     "evalue": "invalid literal for int() with base 10: 'B'",
     "output_type": "error",
     "traceback": [
      "\u001b[1;31m---------------------------------------------------------------------------\u001b[0m",
      "\u001b[1;31mValueError\u001b[0m                                Traceback (most recent call last)",
      "Input \u001b[1;32mIn [93]\u001b[0m, in \u001b[0;36m<cell line: 5>\u001b[1;34m()\u001b[0m\n\u001b[0;32m      6\u001b[0m     \u001b[38;5;28;01mfor\u001b[39;00m j \u001b[38;5;129;01min\u001b[39;00m \u001b[38;5;28mrange\u001b[39m(\u001b[38;5;241m3\u001b[39m):\n\u001b[0;32m      7\u001b[0m         \u001b[38;5;28;01mfor\u001b[39;00m k \u001b[38;5;129;01min\u001b[39;00m \u001b[38;5;28mrange\u001b[39m(\u001b[38;5;241m5\u001b[39m):\n\u001b[1;32m----> 8\u001b[0m             f[i][j][k] \u001b[38;5;241m=\u001b[39m convert_dict[f[i][j][k]]\n\u001b[0;32m      9\u001b[0m f\n",
      "\u001b[1;31mValueError\u001b[0m: invalid literal for int() with base 10: 'B'"
     ]
    }
   ],
   "source": []
  },
  {
   "cell_type": "code",
   "execution_count": null,
   "metadata": {},
   "outputs": [],
   "source": []
  }
 ],
 "metadata": {
  "celltoolbar": "Raw Cell Format",
  "kernelspec": {
   "display_name": "Python 3 (ipykernel)",
   "language": "python",
   "name": "python3"
  },
  "language_info": {
   "codemirror_mode": {
    "name": "ipython",
    "version": 3
   },
   "file_extension": ".py",
   "mimetype": "text/x-python",
   "name": "python",
   "nbconvert_exporter": "python",
   "pygments_lexer": "ipython3",
   "version": "3.9.12"
  }
 },
 "nbformat": 4,
 "nbformat_minor": 2
}
