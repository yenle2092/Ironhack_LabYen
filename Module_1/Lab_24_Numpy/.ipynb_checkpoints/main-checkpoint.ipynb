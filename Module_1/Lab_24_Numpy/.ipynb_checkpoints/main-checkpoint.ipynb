{
 "cells": [
  {
   "cell_type": "markdown",
   "metadata": {},
   "source": [
    "# Intrduction to NumPy\n",
    "\n",
    "\n",
    "#### 1. Import NumPy under the name np."
   ]
  },
  {
   "cell_type": "code",
   "execution_count": 2,
   "metadata": {},
   "outputs": [],
   "source": [
    "import numpy as np"
   ]
  },
  {
   "cell_type": "markdown",
   "metadata": {},
   "source": [
    "#### 2. Print your NumPy version."
   ]
  },
  {
   "cell_type": "code",
   "execution_count": 3,
   "metadata": {},
   "outputs": [
    {
     "name": "stdout",
     "output_type": "stream",
     "text": [
      "1.21.5\n"
     ]
    }
   ],
   "source": [
    "print(np.__version__)"
   ]
  },
  {
   "cell_type": "markdown",
   "metadata": {},
   "source": [
    "#### 3. Generate a 2x3x5 3-dimensional array with random values. Assign the array to variable *a*.\n",
    "**Challenge**: there are at least three easy ways that use numpy to generate random arrays. How many ways can you find?"
   ]
  },
  {
   "cell_type": "code",
   "execution_count": 28,
   "metadata": {},
   "outputs": [],
   "source": [
    "# Method 1\n",
    "a=np.random.random((2,3,5))"
   ]
  },
  {
   "cell_type": "code",
   "execution_count": 15,
   "metadata": {},
   "outputs": [],
   "source": [
    "import random\n",
    "my_randoms=[]\n",
    "for i in range (30):\n",
    "    my_randoms.append(random.randrange(1, 101, 1))\n",
    "a1=np.reshape(my_randoms,(2,3,5))\n",
    "\n",
    "# Method 2\n",
    "a = np.arange(30).reshape(2,3,5)"
   ]
  },
  {
   "cell_type": "code",
   "execution_count": 14,
   "metadata": {},
   "outputs": [],
   "source": [
    "from numpy import random\n",
    "a = random.rand(2, 3, 5)"
   ]
  },
  {
   "cell_type": "markdown",
   "metadata": {},
   "source": [
    "#### 4. Print *a*.\n"
   ]
  },
  {
   "cell_type": "code",
   "execution_count": 29,
   "metadata": {},
   "outputs": [
    {
     "name": "stdout",
     "output_type": "stream",
     "text": [
      "[[[0.56295544 0.75833379 0.83135614 0.31686792 0.15974801]\n",
      "  [0.50737468 0.09490094 0.8947016  0.81616859 0.65499808]\n",
      "  [0.28020563 0.39880587 0.23819397 0.08053343 0.03546555]]\n",
      "\n",
      " [[0.99769535 0.82134684 0.89555472 0.0669393  0.75298723]\n",
      "  [0.19768421 0.55399974 0.99316218 0.810064   0.70550706]\n",
      "  [0.03219979 0.93012363 0.50305194 0.47984446 0.5732228 ]]]\n"
     ]
    }
   ],
   "source": [
    "print(a)"
   ]
  },
  {
   "cell_type": "markdown",
   "metadata": {},
   "source": [
    "#### 5. Create a 5x2x3 3-dimensional array with all values equaling 1. Assign the array to variable *b*."
   ]
  },
  {
   "cell_type": "code",
   "execution_count": 23,
   "metadata": {},
   "outputs": [],
   "source": [
    "b=np.full(((5,3,2)),1)\n",
    "##b=np.ones(5,3,2)\n"
   ]
  },
  {
   "cell_type": "markdown",
   "metadata": {},
   "source": [
    "#### 6. Print *b*.\n"
   ]
  },
  {
   "cell_type": "code",
   "execution_count": 24,
   "metadata": {},
   "outputs": [
    {
     "name": "stdout",
     "output_type": "stream",
     "text": [
      "[[[1 1]\n",
      "  [1 1]\n",
      "  [1 1]]\n",
      "\n",
      " [[1 1]\n",
      "  [1 1]\n",
      "  [1 1]]\n",
      "\n",
      " [[1 1]\n",
      "  [1 1]\n",
      "  [1 1]]\n",
      "\n",
      " [[1 1]\n",
      "  [1 1]\n",
      "  [1 1]]\n",
      "\n",
      " [[1 1]\n",
      "  [1 1]\n",
      "  [1 1]]]\n"
     ]
    }
   ],
   "source": [
    "print(b)"
   ]
  },
  {
   "cell_type": "markdown",
   "metadata": {},
   "source": [
    "#### 7. Do *a* and *b* have the same size? How do you prove that in Python code?"
   ]
  },
  {
   "cell_type": "code",
   "execution_count": 25,
   "metadata": {},
   "outputs": [
    {
     "name": "stdout",
     "output_type": "stream",
     "text": [
      "size of a:  (2, 3, 5)\n",
      "size of b:  (5, 3, 2)\n",
      "a and b dont have the same size\n"
     ]
    }
   ],
   "source": [
    "print('size of a: ',a.shape)\n",
    "print('size of b: ',b.shape)\n",
    "if a.shape==b.shape:\n",
    "    print(' a and b have the same size')\n",
    "else:\n",
    "    print('a and b dont have the same size')"
   ]
  },
  {
   "cell_type": "markdown",
   "metadata": {},
   "source": [
    "#### 8. Are you able to add *a* and *b*? Why or why not?\n"
   ]
  },
  {
   "cell_type": "code",
   "execution_count": 20,
   "metadata": {},
   "outputs": [
    {
     "ename": "ValueError",
     "evalue": "operands could not be broadcast together with shapes (2,3,5) (5,2,3) ",
     "output_type": "error",
     "traceback": [
      "\u001b[1;31m---------------------------------------------------------------------------\u001b[0m",
      "\u001b[1;31mValueError\u001b[0m                                Traceback (most recent call last)",
      "Input \u001b[1;32mIn [20]\u001b[0m, in \u001b[0;36m<cell line: 1>\u001b[1;34m()\u001b[0m\n\u001b[1;32m----> 1\u001b[0m \u001b[38;5;28mprint\u001b[39m(\u001b[43ma\u001b[49m\u001b[38;5;241;43m+\u001b[39;49m\u001b[43mb\u001b[49m)\n",
      "\u001b[1;31mValueError\u001b[0m: operands could not be broadcast together with shapes (2,3,5) (5,2,3) "
     ]
    }
   ],
   "source": [
    "print(a+b)\n",
    "## We aren't able to add a and b. Because a and b don't have the same size"
   ]
  },
  {
   "cell_type": "markdown",
   "metadata": {},
   "source": [
    "#### 9. Transpose *b* so that it has the same structure of *a* (i.e. become a 2x3x5 array). Assign the transposed array to variable *c*."
   ]
  },
  {
   "cell_type": "code",
   "execution_count": 30,
   "metadata": {},
   "outputs": [
    {
     "name": "stdout",
     "output_type": "stream",
     "text": [
      "[[[1 1 1 1 1]\n",
      "  [1 1 1 1 1]\n",
      "  [1 1 1 1 1]]\n",
      "\n",
      " [[1 1 1 1 1]\n",
      "  [1 1 1 1 1]\n",
      "  [1 1 1 1 1]]]\n"
     ]
    },
    {
     "data": {
      "text/plain": [
       "(2, 3, 5)"
      ]
     },
     "execution_count": 30,
     "metadata": {},
     "output_type": "execute_result"
    }
   ],
   "source": [
    "c=np.transpose(b)\n",
    "print(c)\n",
    "c.shape"
   ]
  },
  {
   "cell_type": "markdown",
   "metadata": {},
   "source": [
    "#### 10. Try to add *a* and *c*. Now it should work. Assign the sum to variable *d*. But why does it work now?"
   ]
  },
  {
   "cell_type": "code",
   "execution_count": 31,
   "metadata": {},
   "outputs": [
    {
     "name": "stdout",
     "output_type": "stream",
     "text": [
      "[[[1.56295544 1.75833379 1.83135614 1.31686792 1.15974801]\n",
      "  [1.50737468 1.09490094 1.8947016  1.81616859 1.65499808]\n",
      "  [1.28020563 1.39880587 1.23819397 1.08053343 1.03546555]]\n",
      "\n",
      " [[1.99769535 1.82134684 1.89555472 1.0669393  1.75298723]\n",
      "  [1.19768421 1.55399974 1.99316218 1.810064   1.70550706]\n",
      "  [1.03219979 1.93012363 1.50305194 1.47984446 1.5732228 ]]]\n"
     ]
    }
   ],
   "source": [
    "d=a+c\n",
    "print(d)"
   ]
  },
  {
   "cell_type": "markdown",
   "metadata": {},
   "source": [
    "#### 11. Print *a* and *d*. Notice the difference and relation of the two array in terms of the values? Explain."
   ]
  },
  {
   "cell_type": "code",
   "execution_count": 32,
   "metadata": {},
   "outputs": [
    {
     "name": "stdout",
     "output_type": "stream",
     "text": [
      "[[[0.56295544 0.75833379 0.83135614 0.31686792 0.15974801]\n",
      "  [0.50737468 0.09490094 0.8947016  0.81616859 0.65499808]\n",
      "  [0.28020563 0.39880587 0.23819397 0.08053343 0.03546555]]\n",
      "\n",
      " [[0.99769535 0.82134684 0.89555472 0.0669393  0.75298723]\n",
      "  [0.19768421 0.55399974 0.99316218 0.810064   0.70550706]\n",
      "  [0.03219979 0.93012363 0.50305194 0.47984446 0.5732228 ]]]\n",
      "--------------------------\n",
      "[[[1.56295544 1.75833379 1.83135614 1.31686792 1.15974801]\n",
      "  [1.50737468 1.09490094 1.8947016  1.81616859 1.65499808]\n",
      "  [1.28020563 1.39880587 1.23819397 1.08053343 1.03546555]]\n",
      "\n",
      " [[1.99769535 1.82134684 1.89555472 1.0669393  1.75298723]\n",
      "  [1.19768421 1.55399974 1.99316218 1.810064   1.70550706]\n",
      "  [1.03219979 1.93012363 1.50305194 1.47984446 1.5732228 ]]]\n"
     ]
    }
   ],
   "source": [
    "print(a)\n",
    "\n",
    "print(\"--------------------------\")\n",
    "print(d)"
   ]
  },
  {
   "cell_type": "markdown",
   "metadata": {},
   "source": [
    "#### 12. Multiply *a* and *c*. Assign the result to *e*."
   ]
  },
  {
   "cell_type": "code",
   "execution_count": 34,
   "metadata": {},
   "outputs": [],
   "source": [
    "e=a*c"
   ]
  },
  {
   "cell_type": "markdown",
   "metadata": {},
   "source": [
    "#### 13. Does *e* equal to *a*? Why or why not?\n"
   ]
  },
  {
   "cell_type": "code",
   "execution_count": 35,
   "metadata": {},
   "outputs": [
    {
     "name": "stdout",
     "output_type": "stream",
     "text": [
      "e is equal to a\n",
      "(2, 3, 5)\n",
      "(2, 3, 5)\n"
     ]
    }
   ],
   "source": [
    "if e.all()==a.all():\n",
    "    print('e is equal to a')\n",
    "else:\n",
    "    print('e is not equal to a')\n",
    "print(a.shape)\n",
    "print(e.shape)\n",
    "## because c contains only 1 inside"
   ]
  },
  {
   "cell_type": "markdown",
   "metadata": {},
   "source": [
    "#### 14. Identify the max, min, and mean values in *d*. Assign those values to variables *d_max*, *d_min* and *d_mean*."
   ]
  },
  {
   "cell_type": "code",
   "execution_count": 46,
   "metadata": {},
   "outputs": [
    {
     "name": "stdout",
     "output_type": "stream",
     "text": [
      "d_max:  1.9976953492057268\n",
      "d_min:  1.0321997898767408\n",
      "d_mean:  1.5314664303962253\n"
     ]
    }
   ],
   "source": [
    "d_max=np.max(d)\n",
    "print('d_max: ',d_max)\n",
    "\n",
    "d_min=np.min(d)\n",
    "print('d_min: ',d_min )\n",
    "\n",
    "d_mean=np.mean(d)\n",
    "print('d_mean: ',d_mean)\n"
   ]
  },
  {
   "cell_type": "markdown",
   "metadata": {},
   "source": [
    "#### 15. Now we want to label the values in *d*. First create an empty array *f* with the same shape (i.e. 2x3x5) as *d* using `np.empty`.\n"
   ]
  },
  {
   "cell_type": "code",
   "execution_count": 47,
   "metadata": {},
   "outputs": [],
   "source": [
    "f=np.empty((2,3,5))"
   ]
  },
  {
   "cell_type": "markdown",
   "metadata": {},
   "source": [
    "#### 16. Populate the values in *f*. \n",
    "\n",
    "For each value in *d*, if it's larger than *d_min* but smaller than *d_mean*, assign 25 to the corresponding value in *f*. If a value in *d* is larger than *d_mean* but smaller than *d_max*, assign 75 to the corresponding value in *f*. If a value equals to *d_mean*, assign 50 to the corresponding value in *f*. Assign 0 to the corresponding value(s) in *f* for *d_min* in *d*. Assign 100 to the corresponding value(s) in *f* for *d_max* in *d*. In the end, f should have only the following values: 0, 25, 50, 75, and 100.\n",
    "\n",
    "**Note**: you don't have to use Numpy in this question."
   ]
  },
  {
   "cell_type": "code",
   "execution_count": 58,
   "metadata": {},
   "outputs": [],
   "source": [
    "ar= []\n",
    "for i in np.nditer(d):\n",
    "    if i>d.min() and i<d.mean():\n",
    "        ar.append(25)\n",
    "    elif i>d.mean() and i<d.max():\n",
    "        ar.append(75)\n",
    "    elif i==d.mean():\n",
    "        ar.append(50)\n",
    "    elif i<d.min():\n",
    "        ar.append(0)   \n",
    "    else :\n",
    "        ar.append(100)\n",
    "f=np.reshape(ar,a.shape)"
   ]
  },
  {
   "cell_type": "markdown",
   "metadata": {},
   "source": [
    "#### 17. Print *d* and *f*. Do you have your expected *f*?\n",
    "For instance, if your *d* is:\n",
    "```python\n",
    "[[[1.85836099, 1.67064465, 1.62576044, 1.40243961, 1.88454931],\n",
    "[1.75354326, 1.69403643, 1.36729252, 1.61415071, 1.12104981],\n",
    "[1.72201435, 1.1862918 , 1.87078449, 1.7726778 , 1.88180042]],\n",
    "[[1.44747908, 1.31673383, 1.02000951, 1.52218947, 1.97066381],\n",
    "[1.79129243, 1.74983003, 1.96028037, 1.85166831, 1.65450881],\n",
    "[1.18068344, 1.9587381 , 1.00656599, 1.93402165, 1.73514584]]]\n",
    "```\n",
    "Your *f* should be:\n",
    "```python\n",
    "[[[ 75.,  75.,  75.,  25.,  75.],\n",
    "[ 75.,  75.,  25.,  25.,  25.],\n",
    "[ 75.,  25.,  75.,  75.,  75.]],\n",
    "[[ 25.,  25.,  25.,  25., 100.],\n",
    "[ 75.,  75.,  75.,  75.,  75.],\n",
    "[ 25.,  75.,   0.,  75.,  75.]]]\n",
    "```"
   ]
  },
  {
   "cell_type": "code",
   "execution_count": 59,
   "metadata": {},
   "outputs": [
    {
     "name": "stdout",
     "output_type": "stream",
     "text": [
      "[[[1.56295544 1.75833379 1.83135614 1.31686792 1.15974801]\n",
      "  [1.50737468 1.09490094 1.8947016  1.81616859 1.65499808]\n",
      "  [1.28020563 1.39880587 1.23819397 1.08053343 1.03546555]]\n",
      "\n",
      " [[1.99769535 1.82134684 1.89555472 1.0669393  1.75298723]\n",
      "  [1.19768421 1.55399974 1.99316218 1.810064   1.70550706]\n",
      "  [1.03219979 1.93012363 1.50305194 1.47984446 1.5732228 ]]]\n",
      "----------------------------------------\n",
      "[[[ 75  75  75  25  25]\n",
      "  [ 25  25  75  75  75]\n",
      "  [ 25  25  25  25  25]]\n",
      "\n",
      " [[100  75  75  25  75]\n",
      "  [ 25  75  75  75  75]\n",
      "  [100  75  25  25  75]]]\n"
     ]
    }
   ],
   "source": [
    "print(d)\n",
    "print('----------------------------------------')\n",
    "print(f)"
   ]
  },
  {
   "cell_type": "markdown",
   "metadata": {},
   "source": [
    "#### 18. Bonus question: instead of using numbers (i.e. 0, 25, 50, 75, and 100), use string values  (\"A\", \"B\", \"C\", \"D\", and \"E\") to label the array elements. For the example above, the expected result is:\n",
    "\n",
    "```python\n",
    "[[[ 'D',  'D',  'D',  'B',  'D'],\n",
    "[ 'D',  'D',  'B',  'B',  'B'],\n",
    "[ 'D',  'B',  'D',  'D',  'D']],\n",
    "[[ 'B',  'B',  'B',  'B',  'E'],\n",
    "[ 'D',  'D',  'D',  'D',  'D'],\n",
    "[ 'B',  'D',   'A',  'D', 'D']]]\n",
    "```\n",
    "**Note**: you don't have to use Numpy in this question."
   ]
  },
  {
   "cell_type": "code",
   "execution_count": 61,
   "metadata": {},
   "outputs": [
    {
     "data": {
      "text/plain": [
       "array([[['D', 'D', 'D', 'B', 'B'],\n",
       "        ['B', 'B', 'D', 'D', 'D'],\n",
       "        ['B', 'B', 'B', 'B', 'B']],\n",
       "\n",
       "       [['E', 'D', 'D', 'B', 'D'],\n",
       "        ['B', 'D', 'D', 'D', 'D'],\n",
       "        ['E', 'D', 'B', 'B', 'D']]], dtype='<U1')"
      ]
     },
     "execution_count": 61,
     "metadata": {},
     "output_type": "execute_result"
    }
   ],
   "source": [
    "ar= []\n",
    "for i in np.nditer(d):\n",
    "    if i>d.min() and i<d.mean():\n",
    "        ar.append('B')\n",
    "    elif i>d.mean() and i<d.max():\n",
    "        ar.append('D')\n",
    "    elif i==d.mean():\n",
    "        ar.append('C')\n",
    "    elif i<d.min():\n",
    "        ar.append('A')   \n",
    "    else :\n",
    "        ar.append('E')\n",
    "f=np.reshape(ar,a.shape)\n",
    "f"
   ]
  },
  {
   "cell_type": "code",
   "execution_count": null,
   "metadata": {},
   "outputs": [],
   "source": []
  }
 ],
 "metadata": {
  "celltoolbar": "Raw Cell Format",
  "kernelspec": {
   "display_name": "Python 3 (ipykernel)",
   "language": "python",
   "name": "python3"
  },
  "language_info": {
   "codemirror_mode": {
    "name": "ipython",
    "version": 3
   },
   "file_extension": ".py",
   "mimetype": "text/x-python",
   "name": "python",
   "nbconvert_exporter": "python",
   "pygments_lexer": "ipython3",
   "version": "3.9.12"
  }
 },
 "nbformat": 4,
 "nbformat_minor": 2
}
