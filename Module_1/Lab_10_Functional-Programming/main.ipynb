{
 "cells": [
  {
   "cell_type": "markdown",
   "id": "95526cff",
   "metadata": {},
   "source": [
    "### 1.Counting sheep...\n",
    "Consider an array/list of sheep where some sheep may be missing from their place. We need a function that counts the number of sheep present in the array (true means present).\n",
    "\n",
    "For example,\n",
    "[true,  true,  true,  false,\n",
    "  true,  true,  true,  true ,\n",
    "  true,  false, true,  false,\n",
    "  true,  false, false, true ,\n",
    "  true,  true,  true,  true ,\n",
    "  false, false, true,  true]\n",
    "  \n",
    "The correct answer would be 17.\n",
    "\n",
    "Hint: Don't forget to check for bad values like null/undefined\n",
    "  "
   ]
  },
  {
   "cell_type": "code",
   "execution_count": 49,
   "id": "99c83355",
   "metadata": {},
   "outputs": [
    {
     "data": {
      "text/plain": [
       "17"
      ]
     },
     "execution_count": 49,
     "metadata": {},
     "output_type": "execute_result"
    }
   ],
   "source": [
    "sheep=[True,  True,  True,  False,\n",
    "  True,  True,  True,  True ,\n",
    "  True,  False, True,  False,\n",
    "  True,  False, False, True ,\n",
    "  True,  True,  True,  True ,\n",
    "  False, False, True,  True]\n",
    "def count_sheeps(array):\n",
    "    count = 0\n",
    "    for i in array:\n",
    "        if i:\n",
    "            count+=1        \n",
    "    return count\n",
    "count_sheeps(sheep)\n"
   ]
  },
  {
   "cell_type": "markdown",
   "id": "b5fce9e8",
   "metadata": {},
   "source": [
    "### 2.Removing Elements: \n",
    "Take an array and remove every second element from the array. Always keep the first element and start removing with the next element."
   ]
  },
  {
   "cell_type": "code",
   "execution_count": 56,
   "id": "b11e183a",
   "metadata": {},
   "outputs": [
    {
     "data": {
      "text/plain": [
       "[1, 3, 5, 7, 9]"
      ]
     },
     "execution_count": 56,
     "metadata": {},
     "output_type": "execute_result"
    }
   ],
   "source": [
    "x=[1, 2, 3, 4, 5, 6, 7, 8, 9, 10]\n",
    "def remove_every_other(my_list):\n",
    "    res = []\n",
    "    for i in range(len(my_list)):\n",
    "        if i % 2 == 0:\n",
    "            res.append(my_list[i])\n",
    "    return res\n",
    "remove_every_other(x)"
   ]
  },
  {
   "cell_type": "markdown",
   "id": "ac2398aa",
   "metadata": {},
   "source": [
    "### 3. Convert number to reversed array of digits\n",
    "Given a random non-negative number, you have to return the digits of this number within an array in reverse order."
   ]
  },
  {
   "cell_type": "code",
   "execution_count": 72,
   "id": "bc92cb41",
   "metadata": {},
   "outputs": [
    {
     "name": "stdout",
     "output_type": "stream",
     "text": [
      "767654\n"
     ]
    },
    {
     "data": {
      "text/plain": [
       "[7, 6, 7, 6, 5, 4]"
      ]
     },
     "execution_count": 72,
     "metadata": {},
     "output_type": "execute_result"
    }
   ],
   "source": [
    "def digitize(n):\n",
    "    string_n=str(n)\n",
    "    list_order=[]\n",
    "    reverse=string_n[::-1]\n",
    "    print(reverse)\n",
    "    for i in reverse:\n",
    "        list_order.append(int(i))\n",
    "    return list_order\n",
    "digitize(456767)"
   ]
  },
  {
   "cell_type": "code",
   "execution_count": 80,
   "id": "ff91b610",
   "metadata": {},
   "outputs": [
    {
     "data": {
      "text/plain": [
       "[9, 8, 1, 7, 6, 7, 6, 5, 4]"
      ]
     },
     "execution_count": 80,
     "metadata": {},
     "output_type": "execute_result"
    }
   ],
   "source": [
    "def digitize(n):\n",
    "    res = []\n",
    "    div = n\n",
    "    while div != 0:\n",
    "        rem = div % 10\n",
    "        div = div // 10\n",
    "        res.append(rem)\n",
    "    return res\n",
    "digitize(456767189)"
   ]
  },
  {
   "cell_type": "markdown",
   "id": "54485fdf",
   "metadata": {},
   "source": [
    "### 4. Digit*Digit\n",
    "Welcome. In this kata, you are asked to square every digit of a number and concatenate them.\n",
    "\n",
    "For example, if we run 9119 through the function, 811181 will come out, because 92 is 81 and 12 is 1. (81-1-1-81)\n",
    "\n",
    "Example #2: An input of 765 will/should return 493625 because 72 is 49, 62 is 36, and 52 is 25. (49-36-35)\n",
    "\n",
    "Note: The function accepts an integer and returns an integer.\n",
    "\n"
   ]
  },
  {
   "cell_type": "code",
   "execution_count": 87,
   "id": "a76b7a2e",
   "metadata": {},
   "outputs": [
    {
     "data": {
      "text/plain": [
       "162536"
      ]
     },
     "execution_count": 87,
     "metadata": {},
     "output_type": "execute_result"
    }
   ],
   "source": [
    "def square_digits(num):\n",
    "    string_num=str(num)\n",
    "    res = \"\"\n",
    "    for i in string_num:\n",
    "        res += str((int(i)*int(i)))\n",
    "    return int(res)\n",
    "square_digits(456)"
   ]
  },
  {
   "cell_type": "code",
   "execution_count": null,
   "id": "643097ba",
   "metadata": {},
   "outputs": [],
   "source": []
  }
 ],
 "metadata": {
  "kernelspec": {
   "display_name": "Python 3 (ipykernel)",
   "language": "python",
   "name": "python3"
  },
  "language_info": {
   "codemirror_mode": {
    "name": "ipython",
    "version": 3
   },
   "file_extension": ".py",
   "mimetype": "text/x-python",
   "name": "python",
   "nbconvert_exporter": "python",
   "pygments_lexer": "ipython3",
   "version": "3.9.12"
  }
 },
 "nbformat": 4,
 "nbformat_minor": 5
}
