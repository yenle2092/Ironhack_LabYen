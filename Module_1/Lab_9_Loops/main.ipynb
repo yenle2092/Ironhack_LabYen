{
 "cells": [
  {
   "cell_type": "markdown",
   "metadata": {},
   "source": [
    "# Loops\n",
    "\n",
    "Complete the following set of exercises to solidify your knowledge for Loops."
   ]
  },
  {
   "cell_type": "markdown",
   "metadata": {},
   "source": [
    "#### 1. Print first 10 natural numbers using while loop"
   ]
  },
  {
   "cell_type": "code",
   "execution_count": 1,
   "metadata": {},
   "outputs": [
    {
     "name": "stdout",
     "output_type": "stream",
     "text": [
      "0\n",
      "1\n",
      "2\n",
      "3\n",
      "4\n",
      "5\n",
      "6\n",
      "7\n",
      "8\n",
      "9\n"
     ]
    }
   ],
   "source": [
    "i = 0\n",
    "while(i<10):\n",
    "    print(i)\n",
    "    i += 1"
   ]
  },
  {
   "cell_type": "markdown",
   "metadata": {},
   "source": [
    "#### 2. Display numbers from a list using loop\n",
    "Write a program to display only those numbers from a list that satisfy the following conditions\n",
    "\n",
    "The number must be divisible by five\n",
    "\n",
    "If the number is greater than 150, then skip it and move to the next number\n",
    "\n",
    "If the number is greater than 500, then stop the loop\n",
    "\n",
    "numbers = [12, 75, 150, 180, 145, 525, 50]"
   ]
  },
  {
   "cell_type": "code",
   "execution_count": 2,
   "metadata": {},
   "outputs": [
    {
     "name": "stdout",
     "output_type": "stream",
     "text": [
      "[75, 150, 145]\n"
     ]
    }
   ],
   "source": [
    "numbers = [12, 75, 150, 180, 145, 525, 50]\n",
    "list_numbers=[]\n",
    "for i in numbers:\n",
    "    if i%5==0 and i<=150:\n",
    "        list_numbers.append(i)\n",
    "    elif i>500:\n",
    "        break\n",
    "print(list_numbers)"
   ]
  },
  {
   "cell_type": "markdown",
   "metadata": {},
   "source": [
    "#### 3.Write a Python program to check the validity of a password (input from users).\n",
    "\n",
    "Validation :\n",
    "\n",
    "At least 1 letter between [a-z] and 1 letter between [A-Z].\n",
    "\n",
    "At least 1 number between [0-9].\n",
    "\n",
    "At least 1 character from [$#@].\n",
    "\n",
    "Minimum length 6 characters.\n",
    "\n",
    "Maximum length 16 characters."
   ]
  },
  {
   "cell_type": "code",
   "execution_count": 3,
   "metadata": {
    "scrolled": true
   },
   "outputs": [
    {
     "name": "stdout",
     "output_type": "stream",
     "text": [
      "Please provide your password compiling with all the conditions above: Finance2@\n",
      "Your password is correct\n"
     ]
    }
   ],
   "source": [
    "import re\n",
    "password = input(\"Please provide your password compiling with all the conditions above: \")\n",
    "flag = False \n",
    "while flag == False:\n",
    "    check_letter_low = re.search(r'[a-z]+', password)\n",
    "    check_letter_up = re.search(r'[A-Z]+', password)\n",
    "    check_number = re.search(r'[0-9]+', password)\n",
    "    check_sign = re.search(r'[$#@]+', password)\n",
    "    if check_letter_low is not None and check_letter_up is not None and check_number is not None and check_sign is not None and len(password) >= 6 and len(password) <= 16:\n",
    "        print(\"Your password is correct\")\n",
    "        flag = True\n",
    "    else: \n",
    "        password = input(\"Please provide your correct password : \")"
   ]
  },
  {
   "cell_type": "markdown",
   "metadata": {},
   "source": [
    "#### 4. Break the loop when x is 6, and see what happens with the else block"
   ]
  },
  {
   "cell_type": "code",
   "execution_count": null,
   "metadata": {},
   "outputs": [],
   "source": [
    "for i range(10)\n",
    "    if x==6:\n",
    "        break\n",
    "    else:\n",
    "        print(\"block\")\n",
    "\n",
    "        "
   ]
  },
  {
   "cell_type": "markdown",
   "metadata": {},
   "source": [
    "#### 5. Write a Python program to calculate the sum and average of n integer numbers (input from the user). Input 0 to finish.\n"
   ]
  },
  {
   "cell_type": "code",
   "execution_count": 10,
   "metadata": {},
   "outputs": [
    {
     "name": "stdout",
     "output_type": "stream",
     "text": [
      "Choose n, the number of integers you want to input:3\n",
      "Entering 0 will end your inputs.\n",
      "The element  1 : \n",
      "Please provide the elements of the input: 1\n",
      "The element  2 : \n",
      "Please provide the elements of the input: 2\n",
      "The element  3 : \n",
      "Please provide the elements of the input: 3\n",
      "The sum is: 6 \n",
      "The mean is: 2.0\n"
     ]
    }
   ],
   "source": [
    "import numpy as np\n",
    "n = int(input(\"Choose n, the number of integers you want to input:\"))\n",
    "print( \"Entering 0 will end your inputs.\")\n",
    "while n==0:\n",
    "  n = int(input(\"Choose other n, the number of integers you want to input:\"))\n",
    "else:\n",
    "    user_input = []\n",
    "    for i in range(n):\n",
    "        print(\"The element \",i+1,\": \")\n",
    "        j = int(input(\"Please provide the elements of the input: \"))\n",
    "        if j == 0:\n",
    "            break\n",
    "        else:\n",
    "            user_input.append(j)\n",
    "\n",
    "print(\"The sum is:\", sum(user_input), \"\\nThe mean is:\", np.mean(user_input))"
   ]
  },
  {
   "cell_type": "code",
   "execution_count": null,
   "metadata": {},
   "outputs": [],
   "source": []
  },
  {
   "cell_type": "code",
   "execution_count": null,
   "metadata": {},
   "outputs": [],
   "source": []
  }
 ],
 "metadata": {
  "kernelspec": {
   "display_name": "Python 3 (ipykernel)",
   "language": "python",
   "name": "python3"
  },
  "language_info": {
   "codemirror_mode": {
    "name": "ipython",
    "version": 3
   },
   "file_extension": ".py",
   "mimetype": "text/x-python",
   "name": "python",
   "nbconvert_exporter": "python",
   "pygments_lexer": "ipython3",
   "version": "3.9.12"
  }
 },
 "nbformat": 4,
 "nbformat_minor": 2
}
