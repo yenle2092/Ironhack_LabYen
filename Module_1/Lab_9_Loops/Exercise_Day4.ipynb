{
 "cells": [
  {
   "cell_type": "markdown",
   "id": "9f30d6e7",
   "metadata": {},
   "source": [
    "1.Write a program to accept the price of a bike and display the road tax to be paid according to the following criteria :    \n",
    "\n",
    "Price                                  Tax \n",
    "\n",
    "> 100000                                15 % \n",
    "\n",
    "> 50000 and <= 100000                   10% \n",
    "\n",
    "<= 50000                                5%"
   ]
  },
  {
   "cell_type": "code",
   "execution_count": 1,
   "id": "eea1cf53",
   "metadata": {},
   "outputs": [
    {
     "data": {
      "text/plain": [
       "250.0"
      ]
     },
     "execution_count": 1,
     "metadata": {},
     "output_type": "execute_result"
    }
   ],
   "source": [
    "def biketax(price):\n",
    "    if price > 100000:\n",
    "        taxes = price * 0.15\n",
    "    elif price > 50000 and price <= 100000:\n",
    "        taxes = price * 0.10\n",
    "    else: \n",
    "        taxes = price * 0.05\n",
    "    return taxes\n",
    "biketax(5000)"
   ]
  },
  {
   "cell_type": "markdown",
   "id": "e719d43a",
   "metadata": {},
   "source": [
    "2. Given the array of numbers, write a program to move all zeros to the end keeping the relative order of the non-zero elements."
   ]
  },
  {
   "cell_type": "code",
   "execution_count": 2,
   "id": "9e621386",
   "metadata": {},
   "outputs": [
    {
     "data": {
      "text/plain": [
       "[1, 2, 4, 5, 0, 0]"
      ]
     },
     "execution_count": 2,
     "metadata": {},
     "output_type": "execute_result"
    }
   ],
   "source": [
    "array=[1,2,0,4,0,5]\n",
    "for item in array:\n",
    "    if item == 0:\n",
    "        array.remove(item)\n",
    "        array.append(0)\n",
    "array"
   ]
  },
  {
   "cell_type": "markdown",
   "id": "119aa182",
   "metadata": {},
   "source": [
    "3.Given two sentences, return an array that has the words that appear in one sentence and not the other and an array with the words in common."
   ]
  },
  {
   "cell_type": "code",
   "execution_count": 4,
   "id": "4528f04e",
   "metadata": {},
   "outputs": [
    {
     "name": "stdout",
     "output_type": "stream",
     "text": [
      "common elements: ['The', 'weather', 'is'] \n",
      "not common elements: ['good', 'bad']\n"
     ]
    }
   ],
   "source": [
    "sentence1 = \"The weather is good\"\n",
    "sentence2 = \"The weather is bad\"\n",
    "split1 = sentence1.split(\" \")\n",
    "split2 = sentence2.split(\" \")\n",
    "\n",
    "common = []\n",
    "for i in split1:\n",
    "    if i in split2:\n",
    "        common.append(i)\n",
    "\n",
    "not_common = []\n",
    "for i in split1:\n",
    "    if i not in split2:\n",
    "        not_common.append(i)\n",
    "for j in split2:\n",
    "    if j not in split1:\n",
    "        not_common.append(j)\n",
    "print(\"common elements:\",common,\"\\nnot common elements:\",not_common)"
   ]
  },
  {
   "cell_type": "code",
   "execution_count": null,
   "id": "8c8be163",
   "metadata": {},
   "outputs": [],
   "source": []
  }
 ],
 "metadata": {
  "kernelspec": {
   "display_name": "Python 3 (ipykernel)",
   "language": "python",
   "name": "python3"
  },
  "language_info": {
   "codemirror_mode": {
    "name": "ipython",
    "version": 3
   },
   "file_extension": ".py",
   "mimetype": "text/x-python",
   "name": "python",
   "nbconvert_exporter": "python",
   "pygments_lexer": "ipython3",
   "version": "3.9.12"
  }
 },
 "nbformat": 4,
 "nbformat_minor": 5
}
